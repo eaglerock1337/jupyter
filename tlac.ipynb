{
 "metadata": {
  "language_info": {
   "codemirror_mode": {
    "name": "ipython",
    "version": 3
   },
   "file_extension": ".py",
   "mimetype": "text/x-python",
   "name": "python",
   "nbconvert_exporter": "python",
   "pygments_lexer": "ipython3",
   "version": "3.7.3-final"
  },
  "orig_nbformat": 2,
  "kernelspec": {
   "name": "python373jvsc74a57bd031f2aee4e71d21fbe5cf8b01ff0e069b9275f58929596ceb00d14d90e3e16cd6",
   "display_name": "Python 3.7.3 64-bit"
  },
  "metadata": {
   "interpreter": {
    "hash": "31f2aee4e71d21fbe5cf8b01ff0e069b9275f58929596ceb00d14d90e3e16cd6"
   }
  }
 },
 "nbformat": 4,
 "nbformat_minor": 2,
 "cells": [
  {
   "source": [
    "# Think Like a Coder\n",
    "\n",
    "Just my inane desire to try out these challenges even though I really shouldn't have to."
   ],
   "cell_type": "markdown",
   "metadata": {}
  },
  {
   "cell_type": "code",
   "execution_count": null,
   "metadata": {},
   "outputs": [],
   "source": [
    "# Episode 1\n",
    "\n",
    "def unlock(lock):\n",
    "    lock.setpos(0)\n",
    "    for i in range(100):\n",
    "        if lock.color == \"green\":\n",
    "            return\n",
    "        lock.incpos()"
   ]
  },
  {
   "cell_type": "code",
   "execution_count": null,
   "metadata": {},
   "outputs": [],
   "source": [
    "# Episode 2\n",
    "\n",
    "def has_double_letters(name):\n",
    "    '''\n",
    "    Return True if the name has a double letter, False otherwise,\n",
    "    '''\n",
    "    pass\n",
    "\n",
    "def has_vowels(name, number):\n",
    "    '''\n",
    "    Return True if the name has number vowels, False otherwise.\n",
    "    '''\n",
    "    pass\n",
    "\n",
    "def find_leader(population):\n",
    "    for person in population:\n",
    "        if person.eyes == \"green\":\n",
    "            if person.hair == \"Red\" and not has_double_letters(person.name):\n",
    "                continue\n",
    "\n",
    "            if person.has_glasses:\n",
    "                if has_vowels(person, 2):\n",
    "                    return person\n",
    "            elif person has_vowels(person, 3):\n",
    "                return person"
   ]
  },
  {
   "cell_type": "code",
   "execution_count": 5,
   "metadata": {},
   "outputs": [
    {
     "output_type": "stream",
     "name": "stdout",
     "text": [
      "My Number: 2\nMy Number: 4\nMy Number: 6\nMy Number: 8\nMy Number: 10\nThe #2 index number is 6\nNumber 0 in list is 2\nNumber 1 in list is 4\nNumber 2 in list is 6\nNumber 3 in list is 8\nNumber 4 in list is 10\n"
     ]
    }
   ],
   "source": [
    "numbers = [2, 4, 6, 8, 10]\n",
    "\n",
    "for num in numbers:\n",
    "    print(f\"My Number: {num}\")\n",
    "\n",
    "print(f\"The #2 index number is {numbers[2]}\")\n",
    "\n",
    "for i in range(len(numbers)):\n",
    "    print(f\"Number {i} in list is {numbers[i]}\")"
   ]
  },
  {
   "cell_type": "code",
   "execution_count": null,
   "metadata": {},
   "outputs": [],
   "source": []
  }
 ]
}